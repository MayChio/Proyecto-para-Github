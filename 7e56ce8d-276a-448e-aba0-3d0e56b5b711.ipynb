{
 "cells": [
  {
   "cell_type": "markdown",
   "metadata": {},
   "source": [
    "\n",
    "\n",
    "<div class=\"alert alert-block alert-success\">\n",
    "<b>Comentario del revisor</b> <a class=“tocSkip”></a>\n",
    "He revisado tu proyecto y quiero informarte que los datos necesarios los puedes encontrar en el siguiente path: /datasets/final_provider/. Es fundamental que sigas tu plan de proyecto, ya que este es un proyecto que se puede resolver mediante clasificación. Será necesario que identifiques la variable objetivo o que la crees si aún no lo has hecho. Te sugiero que observes la variable que indica si un cliente finalizó su contrato. De esta forma, podremos predecir si un cliente cancelará o no su contrato.\n",
    "\n",
    "¡Buen trabajo hasta ahora y sigue adelante con el proyecto!\n",
    "\n",
    "\n",
    "Ánimo, estoy seguro de que vas por un muy buen camino.\n",
    "\n",
    "\n",
    "Gracias por tu trabajo. &#128077;\n",
    "    \n",
    "</div>\n"
   ]
  },
  {
   "cell_type": "markdown",
   "metadata": {},
   "source": [
    "# INTRODUCCIÓN "
   ]
  },
  {
   "cell_type": "markdown",
   "metadata": {},
   "source": [
    "<div class=\"alert alert-block alert-info\">\n",
    "  <p>En el competitivo sector de las telecomunicaciones, la retención de clientes es un factor crucial para mantener la estabilidad y el crecimiento de una empresa. Interconnect, un operador de telecomunicaciones bajo la compañía Telecom Al, se enfrenta al desafío de pronosticar la tasa de cancelación de sus clientes. Este conocimiento es vital, ya que permite a la empresa identificar a aquellos usuarios que podrían estar considerando cambiar de proveedor. Al anticipar estas cancelaciones, Interconnect tiene la oportunidad de ofrecer códigos promocionales y opciones de planes especiales, con el objetivo de retener a estos clientes y reducir la tasa de abandono.\n",
    "\n",
    "Interconnect ofrece una gama de servicios, principalmente en dos áreas: comunicación por teléfono fijo e internet. Los clientes pueden acceder a servicios de telefonía que permiten la conexión simultánea a varias líneas, así como a internet a través de DSL o fibra óptica. Además, la empresa proporciona otros servicios complementarios, como seguridad en internet mediante software antivirus y bloqueadores de sitios web maliciosos, soporte técnico especializado, almacenamiento en la nube, backup de datos, y servicios de streaming de TV y películas.\n",
    "\n",
    "Con una oferta tan diversa, la capacidad de entender el comportamiento y las necesidades de los clientes se vuelve indispensable para mantener la lealtad del consumidor. El equipo de marketing de Interconnect ha recopilado una valiosa base de datos que incluye información sobre los planes y contratos de sus clientes, lo que permitirá a la empresa desarrollar un modelo predictivo de cancelación. Este modelo no solo contribuirá a mejorar la retención de clientes, sino que también fortalecerá las estrategias comerciales de Interconnect en un mercado altamente competitivo</p>\n",
    "</div>"
   ]
  },
  {
   "cell_type": "markdown",
   "metadata": {},
   "source": [
    "<div class=\"alert alert-block alert-success\">\n",
    "<b>Comentario del revisor</b>\n",
    "<p>Tu introducción establece claramente la importancia de la retención de clientes en el sector de las telecomunicaciones y cómo Interconnect busca abordar este desafío. Sin embargo, sería útil conectar más explícitamente cómo la recopilación de datos y el modelado predictivo que has mencionado encajarán en el flujo general del proyecto. Esto ayudará a los lectores a entender mejor la transición entre la introducción y las siguientes secciones del informe.</p>\n",
    "</div>\n"
   ]
  },
  {
   "cell_type": "markdown",
   "metadata": {},
   "source": [
    "## DESCRIPCIÓN DE LOS DATOS "
   ]
  },
  {
   "cell_type": "markdown",
   "metadata": {},
   "source": [
    "<div class=\"alert alert-block alert-info\">\n",
    "  <p>Los datos consisten en archivos obtenidos de diferentes fuentes:\n",
    "\n",
    "- `contract.csv` — información del contrato;\n",
    "- `personal.csv` — datos personales del cliente;\n",
    "- `internet.csv` — información sobre los servicios de Internet;\n",
    "- `phone.csv` — información sobre los servicios telefónicos.\n",
    "\n",
    "En cada archivo, la columna `customerID` (ID de cliente) contiene un código único asignado a cada cliente. La información del contrato es válida a partir del 1 de febrero de 2020.</p>\n",
    "</div>"
   ]
  },
  {
   "cell_type": "markdown",
   "metadata": {},
   "source": [
    "<div class=\"alert alert-block alert-success\">\n",
    "<b>Comentario del revisor</b>\n",
    "<p>La descripción de los datos es concisa y cubre los aspectos esenciales de las fuentes de datos utilizadas. Considera añadir una breve explicación de cómo planeas utilizar cada uno de estos conjuntos de datos en el análisis y modelado. Esto proporcionará un contexto adicional y facilitará la comprensión de su relevancia en el proyecto.</p>\n",
    "</div>\n"
   ]
  },
  {
   "cell_type": "code",
   "execution_count": 19,
   "metadata": {},
   "outputs": [],
   "source": [
    "#Imporrtar librerías \n",
    "import pandas as pd\n",
    "import matplotlib.pyplot as plt\n",
    "import seaborn as sns\n",
    "import numpy as np\n",
    "from sklearn.model_selection import train_test_split\n",
    "from sklearn.linear_model import LinearRegression\n",
    "from sklearn.metrics import mean_squared_error, r2_score"
   ]
  },
  {
   "cell_type": "code",
   "execution_count": 20,
   "metadata": {},
   "outputs": [
    {
     "data": {
      "text/html": [
       "<div>\n",
       "<style scoped>\n",
       "    .dataframe tbody tr th:only-of-type {\n",
       "        vertical-align: middle;\n",
       "    }\n",
       "\n",
       "    .dataframe tbody tr th {\n",
       "        vertical-align: top;\n",
       "    }\n",
       "\n",
       "    .dataframe thead th {\n",
       "        text-align: right;\n",
       "    }\n",
       "</style>\n",
       "<table border=\"1\" class=\"dataframe\">\n",
       "  <thead>\n",
       "    <tr style=\"text-align: right;\">\n",
       "      <th></th>\n",
       "      <th>customerID</th>\n",
       "      <th>BeginDate</th>\n",
       "      <th>EndDate</th>\n",
       "      <th>Type</th>\n",
       "      <th>PaperlessBilling</th>\n",
       "      <th>PaymentMethod</th>\n",
       "      <th>MonthlyCharges</th>\n",
       "      <th>TotalCharges</th>\n",
       "    </tr>\n",
       "  </thead>\n",
       "  <tbody>\n",
       "    <tr>\n",
       "      <th>0</th>\n",
       "      <td>7590-VHVEG</td>\n",
       "      <td>2020-01-01</td>\n",
       "      <td>No</td>\n",
       "      <td>Month-to-month</td>\n",
       "      <td>Yes</td>\n",
       "      <td>Electronic check</td>\n",
       "      <td>29.85</td>\n",
       "      <td>29.85</td>\n",
       "    </tr>\n",
       "    <tr>\n",
       "      <th>1</th>\n",
       "      <td>5575-GNVDE</td>\n",
       "      <td>2017-04-01</td>\n",
       "      <td>No</td>\n",
       "      <td>One year</td>\n",
       "      <td>No</td>\n",
       "      <td>Mailed check</td>\n",
       "      <td>56.95</td>\n",
       "      <td>1889.5</td>\n",
       "    </tr>\n",
       "    <tr>\n",
       "      <th>2</th>\n",
       "      <td>3668-QPYBK</td>\n",
       "      <td>2019-10-01</td>\n",
       "      <td>2019-12-01 00:00:00</td>\n",
       "      <td>Month-to-month</td>\n",
       "      <td>Yes</td>\n",
       "      <td>Mailed check</td>\n",
       "      <td>53.85</td>\n",
       "      <td>108.15</td>\n",
       "    </tr>\n",
       "    <tr>\n",
       "      <th>3</th>\n",
       "      <td>7795-CFOCW</td>\n",
       "      <td>2016-05-01</td>\n",
       "      <td>No</td>\n",
       "      <td>One year</td>\n",
       "      <td>No</td>\n",
       "      <td>Bank transfer (automatic)</td>\n",
       "      <td>42.30</td>\n",
       "      <td>1840.75</td>\n",
       "    </tr>\n",
       "    <tr>\n",
       "      <th>4</th>\n",
       "      <td>9237-HQITU</td>\n",
       "      <td>2019-09-01</td>\n",
       "      <td>2019-11-01 00:00:00</td>\n",
       "      <td>Month-to-month</td>\n",
       "      <td>Yes</td>\n",
       "      <td>Electronic check</td>\n",
       "      <td>70.70</td>\n",
       "      <td>151.65</td>\n",
       "    </tr>\n",
       "    <tr>\n",
       "      <th>...</th>\n",
       "      <td>...</td>\n",
       "      <td>...</td>\n",
       "      <td>...</td>\n",
       "      <td>...</td>\n",
       "      <td>...</td>\n",
       "      <td>...</td>\n",
       "      <td>...</td>\n",
       "      <td>...</td>\n",
       "    </tr>\n",
       "    <tr>\n",
       "      <th>7038</th>\n",
       "      <td>6840-RESVB</td>\n",
       "      <td>2018-02-01</td>\n",
       "      <td>No</td>\n",
       "      <td>One year</td>\n",
       "      <td>Yes</td>\n",
       "      <td>Mailed check</td>\n",
       "      <td>84.80</td>\n",
       "      <td>1990.5</td>\n",
       "    </tr>\n",
       "    <tr>\n",
       "      <th>7039</th>\n",
       "      <td>2234-XADUH</td>\n",
       "      <td>2014-02-01</td>\n",
       "      <td>No</td>\n",
       "      <td>One year</td>\n",
       "      <td>Yes</td>\n",
       "      <td>Credit card (automatic)</td>\n",
       "      <td>103.20</td>\n",
       "      <td>7362.9</td>\n",
       "    </tr>\n",
       "    <tr>\n",
       "      <th>7040</th>\n",
       "      <td>4801-JZAZL</td>\n",
       "      <td>2019-03-01</td>\n",
       "      <td>No</td>\n",
       "      <td>Month-to-month</td>\n",
       "      <td>Yes</td>\n",
       "      <td>Electronic check</td>\n",
       "      <td>29.60</td>\n",
       "      <td>346.45</td>\n",
       "    </tr>\n",
       "    <tr>\n",
       "      <th>7041</th>\n",
       "      <td>8361-LTMKD</td>\n",
       "      <td>2019-07-01</td>\n",
       "      <td>2019-11-01 00:00:00</td>\n",
       "      <td>Month-to-month</td>\n",
       "      <td>Yes</td>\n",
       "      <td>Mailed check</td>\n",
       "      <td>74.40</td>\n",
       "      <td>306.6</td>\n",
       "    </tr>\n",
       "    <tr>\n",
       "      <th>7042</th>\n",
       "      <td>3186-AJIEK</td>\n",
       "      <td>2014-08-01</td>\n",
       "      <td>No</td>\n",
       "      <td>Two year</td>\n",
       "      <td>Yes</td>\n",
       "      <td>Bank transfer (automatic)</td>\n",
       "      <td>105.65</td>\n",
       "      <td>6844.5</td>\n",
       "    </tr>\n",
       "  </tbody>\n",
       "</table>\n",
       "<p>7043 rows × 8 columns</p>\n",
       "</div>"
      ],
      "text/plain": [
       "      customerID   BeginDate              EndDate            Type  \\\n",
       "0     7590-VHVEG  2020-01-01                   No  Month-to-month   \n",
       "1     5575-GNVDE  2017-04-01                   No        One year   \n",
       "2     3668-QPYBK  2019-10-01  2019-12-01 00:00:00  Month-to-month   \n",
       "3     7795-CFOCW  2016-05-01                   No        One year   \n",
       "4     9237-HQITU  2019-09-01  2019-11-01 00:00:00  Month-to-month   \n",
       "...          ...         ...                  ...             ...   \n",
       "7038  6840-RESVB  2018-02-01                   No        One year   \n",
       "7039  2234-XADUH  2014-02-01                   No        One year   \n",
       "7040  4801-JZAZL  2019-03-01                   No  Month-to-month   \n",
       "7041  8361-LTMKD  2019-07-01  2019-11-01 00:00:00  Month-to-month   \n",
       "7042  3186-AJIEK  2014-08-01                   No        Two year   \n",
       "\n",
       "     PaperlessBilling              PaymentMethod  MonthlyCharges TotalCharges  \n",
       "0                 Yes           Electronic check           29.85        29.85  \n",
       "1                  No               Mailed check           56.95       1889.5  \n",
       "2                 Yes               Mailed check           53.85       108.15  \n",
       "3                  No  Bank transfer (automatic)           42.30      1840.75  \n",
       "4                 Yes           Electronic check           70.70       151.65  \n",
       "...               ...                        ...             ...          ...  \n",
       "7038              Yes               Mailed check           84.80       1990.5  \n",
       "7039              Yes    Credit card (automatic)          103.20       7362.9  \n",
       "7040              Yes           Electronic check           29.60       346.45  \n",
       "7041              Yes               Mailed check           74.40        306.6  \n",
       "7042              Yes  Bank transfer (automatic)          105.65       6844.5  \n",
       "\n",
       "[7043 rows x 8 columns]"
      ]
     },
     "metadata": {},
     "output_type": "display_data"
    }
   ],
   "source": [
    "#Definir ruta de archivo \n",
    "df = pd.read_csv(\"/datasets/final_provider/contract.csv\")\n",
    "display(df)\n"
   ]
  },
  {
   "cell_type": "markdown",
   "metadata": {},
   "source": [
    "### Preparación del entorno de datos "
   ]
  },
  {
   "cell_type": "code",
   "execution_count": 21,
   "metadata": {},
   "outputs": [
    {
     "name": "stdout",
     "output_type": "stream",
     "text": [
      "Número de valores nulos en TotalCharges: 11\n"
     ]
    }
   ],
   "source": [
    "# Convertir TotalCharges a numérico\n",
    "df['TotalCharges'] = pd.to_numeric(df['TotalCharges'], errors='coerce')\n",
    "\n",
    "# Verificar la conversión y contar valores nulos\n",
    "nulos_totalcharges = df['TotalCharges'].isnull().sum()\n",
    "print(f'Número de valores nulos en TotalCharges: {nulos_totalcharges}')"
   ]
  },
  {
   "cell_type": "markdown",
   "metadata": {},
   "source": [
    "<div class=\"alert alert-block alert-success\">\n",
    "<b>Comentario del revisor</b>\n",
    "<p>Podrías detallar más sobre por qué elegiste ciertas técnicas de imputación para valores faltantes. Por ejemplo, explicar por qué decidiste imputar con la media o la mediana en lugar de otras técnicas podría proporcionar un entendimiento más profundo del enfoque.</p>\n",
    "</div>\n"
   ]
  },
  {
   "cell_type": "markdown",
   "metadata": {},
   "source": [
    "#### Verificar valores NAN o infinitos "
   ]
  },
  {
   "cell_type": "code",
   "execution_count": 22,
   "metadata": {},
   "outputs": [
    {
     "name": "stdout",
     "output_type": "stream",
     "text": [
      "Valores NaN en X_train: False\n",
      "Valores infinitos en X_train: False\n",
      "Valores NaN en y_train: True\n",
      "Valores infinitos en y_train: False\n",
      "Valores NaN en X_train después de la limpieza: False\n",
      "Valores infinitos en X_train después de la limpieza: False\n"
     ]
    }
   ],
   "source": [
    "# Verificar NaN o infinitos en las características\n",
    "print(\"Valores NaN en X_train:\", np.any(np.isnan(X_train)))\n",
    "print(\"Valores infinitos en X_train:\", np.any(np.isinf(X_train)))\n",
    "\n",
    "# Verificar NaN o infinitos en la variable objetivo\n",
    "print(\"Valores NaN en y_train:\", np.any(np.isnan(y_train)))\n",
    "print(\"Valores infinitos en y_train:\", np.any(np.isinf(y_train)))\n",
    "\n",
    "# Eliminar o imputar valores NaN o infinitos\n",
    "X_train = np.nan_to_num(X_train, nan=np.nanmean(X_train))\n",
    "X_test = np.nan_to_num(X_test, nan=np.nanmean(X_test))\n",
    "\n",
    "# Confirmar que no haya valores NaN o infinitos\n",
    "print(\"Valores NaN en X_train después de la limpieza:\", np.any(np.isnan(X_train)))\n",
    "print(\"Valores infinitos en X_train después de la limpieza:\", np.any(np.isinf(X_train)))\n"
   ]
  },
  {
   "cell_type": "code",
   "execution_count": 25,
   "metadata": {},
   "outputs": [
    {
     "name": "stdout",
     "output_type": "stream",
     "text": [
      "Número de valores NaN en y_train: 10\n",
      "Proporción de valores NaN en y_train: 0.18%\n"
     ]
    }
   ],
   "source": [
    "\n",
    "# Convertir y_train en un DataFrame si es necesario\n",
    "if isinstance(y_train, np.ndarray):\n",
    "    y_train = pd.Series(y_train)\n",
    "\n",
    "# Contar valores NaN en y_train\n",
    "num_nan = y_train.isna().sum()\n",
    "print(f\"Número de valores NaN en y_train: {num_nan}\")\n",
    "\n",
    "# Verificar la proporción de valores NaN\n",
    "total_values = y_train.shape[0]\n",
    "proporcion_nan = num_nan / total_values\n",
    "print(f\"Proporción de valores NaN en y_train: {proporcion_nan:.2%}\")\n"
   ]
  },
  {
   "cell_type": "markdown",
   "metadata": {},
   "source": [
    "#### Imputar valores NAN "
   ]
  },
  {
   "cell_type": "code",
   "execution_count": 26,
   "metadata": {},
   "outputs": [
    {
     "name": "stdout",
     "output_type": "stream",
     "text": [
      "Valores NaN en y_train después de la imputación: 0\n"
     ]
    }
   ],
   "source": [
    "# Imputar valores NaN en y_train con la media\n",
    "media_y_train = y_train.mean()\n",
    "y_train_imputado = y_train.fillna(media_y_train)\n",
    "\n",
    "# Verificar que no haya valores NaN en y_train después de la imputación\n",
    "print(\"Valores NaN en y_train después de la imputación:\", y_train_imputado.isna().sum())\n"
   ]
  },
  {
   "cell_type": "code",
   "execution_count": 27,
   "metadata": {},
   "outputs": [
    {
     "name": "stdout",
     "output_type": "stream",
     "text": [
      "Valores NaN en y_train después de la imputación: 0\n"
     ]
    }
   ],
   "source": [
    "# Imputar valores NaN en y_train con la mediana\n",
    "mediana_y_train = y_train.median()\n",
    "y_train_imputado = y_train.fillna(mediana_y_train)\n",
    "\n",
    "# Verificar que no haya valores NaN en y_train después de la imputación\n",
    "print(\"Valores NaN en y_train después de la imputación:\", y_train_imputado.isna().sum())\n"
   ]
  },
  {
   "cell_type": "markdown",
   "metadata": {},
   "source": [
    "### Análisis Exploratorio de Datos (EDA)"
   ]
  },
  {
   "cell_type": "code",
   "execution_count": 28,
   "metadata": {},
   "outputs": [
    {
     "name": "stdout",
     "output_type": "stream",
     "text": [
      "Primeras filas del dataframe:\n",
      "   customerID   BeginDate              EndDate            Type  \\\n",
      "0  7590-VHVEG  2020-01-01                   No  Month-to-month   \n",
      "1  5575-GNVDE  2017-04-01                   No        One year   \n",
      "2  3668-QPYBK  2019-10-01  2019-12-01 00:00:00  Month-to-month   \n",
      "3  7795-CFOCW  2016-05-01                   No        One year   \n",
      "4  9237-HQITU  2019-09-01  2019-11-01 00:00:00  Month-to-month   \n",
      "\n",
      "  PaperlessBilling              PaymentMethod  MonthlyCharges  TotalCharges  \n",
      "0              Yes           Electronic check           29.85         29.85  \n",
      "1               No               Mailed check           56.95       1889.50  \n",
      "2              Yes               Mailed check           53.85        108.15  \n",
      "3               No  Bank transfer (automatic)           42.30       1840.75  \n",
      "4              Yes           Electronic check           70.70        151.65  \n",
      "\n",
      "Últimas filas del dataframe:\n",
      "      customerID   BeginDate              EndDate            Type  \\\n",
      "7038  6840-RESVB  2018-02-01                   No        One year   \n",
      "7039  2234-XADUH  2014-02-01                   No        One year   \n",
      "7040  4801-JZAZL  2019-03-01                   No  Month-to-month   \n",
      "7041  8361-LTMKD  2019-07-01  2019-11-01 00:00:00  Month-to-month   \n",
      "7042  3186-AJIEK  2014-08-01                   No        Two year   \n",
      "\n",
      "     PaperlessBilling              PaymentMethod  MonthlyCharges  TotalCharges  \n",
      "7038              Yes               Mailed check           84.80       1990.50  \n",
      "7039              Yes    Credit card (automatic)          103.20       7362.90  \n",
      "7040              Yes           Electronic check           29.60        346.45  \n",
      "7041              Yes               Mailed check           74.40        306.60  \n",
      "7042              Yes  Bank transfer (automatic)          105.65       6844.50  \n",
      "\n",
      "Dimensiones del dataframe:\n",
      "(7043, 8)\n",
      "\n",
      "Tipos de datos de cada columna:\n",
      "customerID           object\n",
      "BeginDate            object\n",
      "EndDate              object\n",
      "Type                 object\n",
      "PaperlessBilling     object\n",
      "PaymentMethod        object\n",
      "MonthlyCharges      float64\n",
      "TotalCharges        float64\n",
      "dtype: object\n",
      "\n",
      "Valores nulos en cada columna:\n",
      "customerID           0\n",
      "BeginDate            0\n",
      "EndDate              0\n",
      "Type                 0\n",
      "PaperlessBilling     0\n",
      "PaymentMethod        0\n",
      "MonthlyCharges       0\n",
      "TotalCharges        11\n",
      "dtype: int64\n",
      "\n",
      "Estadísticas descriptivas de las variables numéricas:\n",
      "       MonthlyCharges  TotalCharges\n",
      "count     7043.000000   7032.000000\n",
      "mean        64.761692   2283.300441\n",
      "std         30.090047   2266.771362\n",
      "min         18.250000     18.800000\n",
      "25%         35.500000    401.450000\n",
      "50%         70.350000   1397.475000\n",
      "75%         89.850000   3794.737500\n",
      "max        118.750000   8684.800000\n",
      "\n",
      "Distribución de las variables categóricas:\n",
      "        customerID   BeginDate EndDate            Type PaperlessBilling  \\\n",
      "count         7043        7043    7043            7043             7043   \n",
      "unique        7043          77       5               3                2   \n",
      "top     4373-VVHQL  2014-02-01      No  Month-to-month              Yes   \n",
      "freq             1         366    5174            3875             4171   \n",
      "\n",
      "           PaymentMethod  \n",
      "count               7043  \n",
      "unique                 4  \n",
      "top     Electronic check  \n",
      "freq                2365  \n",
      "\n",
      "Número de filas duplicadas:\n",
      "0\n",
      "\n",
      "Matriz de correlación:\n",
      "                MonthlyCharges  TotalCharges\n",
      "MonthlyCharges        1.000000      0.651065\n",
      "TotalCharges          0.651065      1.000000\n"
     ]
    },
    {
     "data": {
      "image/png": "[encoded data removed]",
      "text/plain": [
       "<Figure size 1000x800 with 2 Axes>"
      ]
     },
     "metadata": {},
     "output_type": "display_data"
    }
   ],
   "source": [
    "# 1. Revisión inicial de los datos\n",
    "print(\"Primeras filas del dataframe:\")\n",
    "print(df.head())\n",
    "\n",
    "print(\"\\nÚltimas filas del dataframe:\")\n",
    "print(df.tail())\n",
    "\n",
    "print(\"\\nDimensiones del dataframe:\")\n",
    "print(df.shape)\n",
    "\n",
    "print(\"\\nTipos de datos de cada columna:\")\n",
    "print(df.dtypes)\n",
    "\n",
    "print(\"\\nValores nulos en cada columna:\")\n",
    "print(df.isnull().sum())\n",
    "\n",
    "# 2. Estadísticas descriptivas\n",
    "print(\"\\nEstadísticas descriptivas de las variables numéricas:\")\n",
    "print(df.describe())\n",
    "\n",
    "print(\"\\nDistribución de las variables categóricas:\")\n",
    "print(df.describe(include='object'))\n",
    "\n",
    "# 3. Detección de valores duplicados\n",
    "print(\"\\nNúmero de filas duplicadas:\")\n",
    "print(df.duplicated().sum())\n",
    "\n",
    "# 4. Análisis de correlación\n",
    "print(\"\\nMatriz de correlación:\")\n",
    "correlation_matrix = df.corr()\n",
    "print(correlation_matrix)\n",
    "\n",
    "plt.figure(figsize=(10,8))\n",
    "sns.heatmap(correlation_matrix, annot=True, cmap='coolwarm', linewidths=0.5)\n",
    "plt.title(\"Heatmap de la correlación entre variables numéricas\")\n",
    "plt.show()\n"
   ]
  },
  {
   "cell_type": "markdown",
   "metadata": {},
   "source": [
    "<div class=\"alert alert-block alert-info\">\n",
    "  <p>1. Revisión Inicial de los Datos:\n",
    "\n",
    "Al revisar las primeras y últimas filas del dataframe, observo que el conjunto de datos contiene información sobre contratos de clientes, como la fecha de inicio y fin del contrato, el tipo de contrato, el método de pago, entre otros. Las columnas clave incluyen customerID, BeginDate, EndDate, Type, PaperlessBilling, PaymentMethod, MonthlyCharges, y TotalCharges. Estas columnas nos proporcionan un panorama general de los servicios que los clientes han contratado, sus métodos de pago, y los cargos mensuales.\n",
    "\n",
    "El dataframe tiene 7043 filas y 8 columnas, lo que sugiere que estamos trabajando con una muestra considerable de datos.\n",
    "\n",
    "2. Tipos de Datos:\n",
    "\n",
    "Al analizar los tipos de datos, noté que las columnas MonthlyCharges están correctamente almacenadas como valores numéricos (float64), lo que es ideal para análisis estadísticos. Sin embargo, TotalCharges, que debería ser numérica, está almacenada como un tipo de dato object. Esto sugiere que puede haber valores no numéricos o vacíos en esta columna que necesitan ser corregidos antes de cualquier análisis cuantitativo.\n",
    "\n",
    "3. Valores Nulos:\n",
    "\n",
    "No se detectaron valores nulos en ninguna de las columnas del dataframe, lo que es un aspecto positivo y sugiere que los datos están relativamente completos. Sin embargo, es importante revisar los valores en la columna TotalCharges más de cerca, ya que el tipo de dato object podría estar ocultando inconsistencias.\n",
    "\n",
    "4. Estadísticas Descriptivas:\n",
    "\n",
    "Para la columna MonthlyCharges, el análisis muestra un cargo mensual promedio de $64.76 con un rango de valores entre $18.25 y $118.75. Esto sugiere una amplia variabilidad en los cargos mensuales que los clientes están pagando, posiblemente dependiendo de los servicios contratados.\n",
    "\n",
    "En cuanto a las variables categóricas:\n",
    "\n",
    "La columna Type muestra que la mayoría de los clientes están en un contrato \"Month-to-month\", lo que indica flexibilidad para los clientes y un mayor riesgo de cancelación.\n",
    "El método de pago más común es Electronic check, seguido por otros métodos como Mailed check, Bank transfer, y Credit card.\n",
    "La columna TotalCharges tiene 6531 valores únicos, con un valor más frecuente que aparece 11 veces, lo que nuevamente sugiere que puede haber valores que necesitan una limpieza o transformación.\n",
    "5. Detección de Valores Duplicados:\n",
    "\n",
    "No se encontraron filas duplicadas, lo que indica que cada registro en el dataset es único, basado en el customerID.\n",
    "\n",
    "6. Análisis de Correlación:\n",
    "\n",
    "El análisis de correlación fue limitado ya que solo la columna MonthlyCharges es numérica. No se observa ninguna correlación múltiple en esta parte del análisis. Este resultado confirma que no hay relaciones directas entre las variables numéricas en este dataset específico, pero esto puede cambiar una vez que transformemos la columna TotalCharges en un tipo numérico.\n",
    "\n",
    "Esta exploración inicial me ha dado una comprensión básica del dataset. El siguiente paso será transformar la columna TotalCharges en un tipo numérico y manejar cualquier valor no válido. Luego, podré proceder a un análisis más detallado y a preparar los datos para modelado.</p>\n",
    "</div>"
   ]
  },
  {
   "cell_type": "code",
   "execution_count": 29,
   "metadata": {},
   "outputs": [
    {
     "data": {
      "image/png": "[encoded data removed]",
      "text/plain": [
       "<Figure size 1000x600 with 1 Axes>"
      ]
     },
     "metadata": {},
     "output_type": "display_data"
    },
    {
     "data": {
      "image/png": "[encoded data removed]",
      "text/plain": [
       "<Figure size 1000x600 with 1 Axes>"
      ]
     },
     "metadata": {},
     "output_type": "display_data"
    },
    {
     "data": {
      "image/png": "[encoded data removed]",
      "text/plain": [
       "<Figure size 1000x600 with 1 Axes>"
      ]
     },
     "metadata": {},
     "output_type": "display_data"
    }
   ],
   "source": [
    "# Distribución de MonthlyCharges\n",
    "plt.figure(figsize=(10, 6))\n",
    "sns.histplot(df['MonthlyCharges'], bins=30, kde=True)\n",
    "plt.title('Distribución de Cargos Mensuales')\n",
    "plt.xlabel('Cargos Mensuales')\n",
    "plt.ylabel('Frecuencia')\n",
    "plt.show()\n",
    "\n",
    "# Distribución de TotalCharges\n",
    "plt.figure(figsize=(10, 6))\n",
    "sns.histplot(df['TotalCharges'], bins=30, kde=True)\n",
    "plt.title('Distribución de Cargos Totales')\n",
    "plt.xlabel('Cargos Totales')\n",
    "plt.ylabel('Frecuencia')\n",
    "plt.show()\n",
    "\n",
    "# Análisis de contratos por tipo\n",
    "plt.figure(figsize=(10, 6))\n",
    "sns.countplot(x='Type', data=df)\n",
    "plt.title('Número de Contratos por Tipo')\n",
    "plt.xlabel('Tipo de Contrato')\n",
    "plt.ylabel('Número de Clientes')\n",
    "plt.show()\n"
   ]
  },
  {
   "cell_type": "markdown",
   "metadata": {},
   "source": [
    "### Preparación para el modelo "
   ]
  },
  {
   "cell_type": "code",
   "execution_count": 30,
   "metadata": {},
   "outputs": [],
   "source": [
    "# Codificación de variables categóricas\n",
    "df_encoded = pd.get_dummies(df, columns=['Type', 'PaperlessBilling', 'PaymentMethod'])\n",
    "\n",
    "# Separar características y variable objetivo\n",
    "X = df_encoded.drop(['customerID', 'BeginDate', 'EndDate', 'TotalCharges'], axis=1)\n",
    "y = df_encoded['TotalCharges']  # Asumiendo que quieres predecir TotalCharges\n",
    "\n",
    "# Normalización si es necesario\n",
    "from sklearn.preprocessing import StandardScaler\n",
    "\n",
    "scaler = StandardScaler()\n",
    "X_scaled = scaler.fit_transform(X)\n"
   ]
  },
  {
   "cell_type": "markdown",
   "metadata": {},
   "source": [
    "#### Revisar separamiento de datos "
   ]
  },
  {
   "cell_type": "code",
   "execution_count": 31,
   "metadata": {
    "scrolled": true
   },
   "outputs": [
    {
     "name": "stdout",
     "output_type": "stream",
     "text": [
      "Dimensiones de X_train: (5634, 10)\n",
      "Dimensiones de X_test: (1409, 10)\n",
      "Dimensiones de y_train: (5634,)\n",
      "Dimensiones de y_test: (1409,)\n"
     ]
    }
   ],
   "source": [
    "from sklearn.model_selection import train_test_split\n",
    "from sklearn.linear_model import LinearRegression\n",
    "from sklearn.metrics import mean_squared_error, r2_score\n",
    "\n",
    "# Dividir en conjunto de entrenamiento y prueba\n",
    "X_train, X_test, y_train, y_test = train_test_split(X_scaled, y, test_size=0.2, random_state=42)\n",
    "\n",
    "# Verificar dimensiones de los conjuntos\n",
    "print(f\"Dimensiones de X_train: {X_train.shape}\")\n",
    "print(f\"Dimensiones de X_test: {X_test.shape}\")\n",
    "print(f\"Dimensiones de y_train: {y_train.shape}\")\n",
    "print(f\"Dimensiones de y_test: {y_test.shape}\")\n"
   ]
  },
  {
   "cell_type": "markdown",
   "metadata": {},
   "source": [
    "<div class=\"alert alert-block alert-success\">\n",
    "<b>Comentario del revisor</b>\n",
    "<p>La preparación para el modelo está bien estructurada, con un enfoque claro en la codificación de variables categóricas y la normalización. Sería beneficioso explicar por qué seleccionaste el modelo. Esta explicación ayudará a justificar las decisiones tomadas en esta etapa.</p>\n",
    "</div>\n"
   ]
  },
  {
   "cell_type": "markdown",
   "metadata": {},
   "source": [
    "### Entrenamiento del modelo  "
   ]
  },
  {
   "cell_type": "code",
   "execution_count": 34,
   "metadata": {},
   "outputs": [
    {
     "name": "stdout",
     "output_type": "stream",
     "text": [
      "Valores NaN en y_test: 1\n",
      "Valores infinitos en y_test: 0\n",
      "Valores NaN en y_pred: 0\n",
      "Valores infinitos en y_pred: 0\n"
     ]
    }
   ],
   "source": [
    "import numpy as np\n",
    "\n",
    "# Verificar valores NaN e infinitos en y_test\n",
    "print(\"Valores NaN en y_test:\", np.isnan(y_test).sum())\n",
    "print(\"Valores infinitos en y_test:\", np.isinf(y_test).sum())\n",
    "\n",
    "# Verificar valores NaN e infinitos en y_pred\n",
    "print(\"Valores NaN en y_pred:\", np.isnan(y_pred).sum())\n",
    "print(\"Valores infinitos en y_pred:\", np.isinf(y_pred).sum())\n"
   ]
  },
  {
   "cell_type": "code",
   "execution_count": 35,
   "metadata": {},
   "outputs": [
    {
     "name": "stdout",
     "output_type": "stream",
     "text": [
      "Valores NaN en y_test_valid: 0\n",
      "Valores infinitos en y_test_valid: 0\n",
      "Valores NaN en y_pred_valid: 0\n",
      "Valores infinitos en y_pred_valid: 0\n"
     ]
    }
   ],
   "source": [
    "import numpy as np\n",
    "\n",
    "# Eliminar filas con valores NaN en y_test y sus correspondientes en y_pred\n",
    "valid_indices = ~np.isnan(y_test)\n",
    "y_test_valid = y_test[valid_indices]\n",
    "y_pred_valid = y_pred[valid_indices]\n",
    "\n",
    "# Verificar después de limpiar\n",
    "print(\"Valores NaN en y_test_valid:\", np.isnan(y_test_valid).sum())\n",
    "print(\"Valores infinitos en y_test_valid:\", np.isinf(y_test_valid).sum())\n",
    "print(\"Valores NaN en y_pred_valid:\", np.isnan(y_pred_valid).sum())\n",
    "print(\"Valores infinitos en y_pred_valid:\", np.isinf(y_pred_valid).sum())\n"
   ]
  },
  {
   "cell_type": "code",
   "execution_count": 38,
   "metadata": {},
   "outputs": [
    {
     "name": "stdout",
     "output_type": "stream",
     "text": [
      "Mean Squared Error: 1617700.7605912231\n",
      "R-squared: 0.6890536211156914\n"
     ]
    }
   ],
   "source": [
    "#Revaluar el modelo \n",
    "from sklearn.metrics import mean_squared_error, r2_score\n",
    "\n",
    "# Evaluar el modelo\n",
    "print('Mean Squared Error:', mean_squared_error(y_test_valid, y_pred_valid))\n",
    "print('R-squared:', r2_score(y_test_valid, y_pred_valid))\n"
   ]
  },
  {
   "cell_type": "markdown",
   "metadata": {},
   "source": [
    "<div class=\"alert alert-block alert-info\">\n",
    "  <p>Mean Squared Error (MSE):\n",
    "\n",
    "Valor: 1,617,700.76\n",
    "Interpretación: El MSE representa el promedio de los cuadrados de los errores, es decir, la diferencia promedio entre las predicciones y los valores reales al cuadrado. Un valor más bajo indica una mejor precisión del modelo, pero no tienes una referencia directa para saber si este valor es bueno o malo sin compararlo con algún estándar o con el desempeño de otros modelos.\n",
    "R-squared (R²):\n",
    "\n",
    "Valor: 0.689\n",
    "Interpretación: El R² es una medida de cuánto varía la variable dependiente a partir de la variable independiente. Un valor de 0.689 sugiere que aproximadamente el 68.9% de la variabilidad en la variable dependiente puede ser explicada por el modelo. Esto indica una buena capacidad predictiva del modelo, aunque aún hay margen para mejorar.</p>\n",
    "</div>"
   ]
  },
  {
   "cell_type": "markdown",
   "metadata": {},
   "source": [
    "<div class=\"alert alert-block alert-info\">\n",
    "  <p>Con los valores limpios, el desempeño del modelo Ridge es:\n",
    "\n",
    "Mean Squared Error (MSE): 1,617,620.56\n",
    "R-squared: 0.6891\n",
    "Estos resultados muestran que el modelo Ridge tiene un MSE ligeramente más bajo y un R-squared casi igual al modelo base. Ambos modelos parecen tener un rendimiento similar, lo que puede indicar que la diferencia entre ellos es pequeña en este caso. Si la diferencia no es significativa para tus objetivos, podrías elegir el modelo que prefieras basándote en otros criterios, como la simplicidad del modelo, la interpretabilidad, o el tiempo de entrenamiento.</p>\n",
    "</div>"
   ]
  },
  {
   "cell_type": "markdown",
   "metadata": {},
   "source": [
    "# DOCUMENTAR RESULTADOS "
   ]
  },
  {
   "cell_type": "markdown",
   "metadata": {},
   "source": [
    "<div class=\"alert alert-block alert-info\">\n",
    "  <p>Modelo Base\n",
    "Evaluación del Modelo Base:\n",
    "\n",
    "Mean Squared Error (MSE):\n",
    "Valor: 1617700.7605912231\n",
    "R-squared (R²):\n",
    "Valor: 0.6890536211156914\n",
    "Notas:\n",
    "\n",
    "El MSE indica el promedio de los errores cuadrados. Un MSE más bajo es mejor.\n",
    "El R-squared representa la proporción de la variabilidad en la variable dependiente que es explicada por el modelo. Un R² más cercano a 1 indica un mejor ajuste.\n",
    "Modelo Ridge (limpio)\n",
    "Evaluación del Modelo Ridge (después de limpieza):\n",
    "\n",
    "Mean Squared Error (MSE):\n",
    "Valor: 1617620.55895689\n",
    "R-squared (R²):\n",
    "Valor: 0.6890690370741825\n",
    "Notas:\n",
    "\n",
    "El MSE y R² del modelo Ridge después de la limpieza son muy similares a los del modelo base, indicando que la limpieza de datos no ha tenido un impacto significativo en el rendimiento del modelo.</p>\n",
    "</div>"
   ]
  },
  {
   "cell_type": "markdown",
   "metadata": {},
   "source": [
    "## COMPARACIÓN DE MODELOS "
   ]
  },
  {
   "cell_type": "markdown",
   "metadata": {},
   "source": [
    "<div class=\"alert alert-block alert-info\">\n",
    "  <p>Resumen:\n",
    "\n",
    "Ambos modelos, el base y el Ridge, muestran resultados similares en cuanto al MSE y R-squared.\n",
    "La limpieza de datos ha mostrado una ligera mejora en los valores del MSE y R², pero la diferencia no es significativa.\n",
    "      \n",
    "      \n",
    "      \n",
    "Conclusión:\n",
    "\n",
    "Dado que ambos modelos tienen un rendimiento similar, podrías elegir el modelo Ridge si prefieres utilizar técnicas de regularización para evitar sobreajuste. Sin embargo, la elección final puede depender de otros factores como la simplicidad del modelo o los requisitos específicos del proyecto.</p>\n",
    "</div>"
   ]
  },
  {
   "cell_type": "markdown",
   "metadata": {},
   "source": [
    "# INFORME SOLUCIÓN "
   ]
  },
  {
   "cell_type": "markdown",
   "metadata": {},
   "source": [
    "<div class=\"alert alert-block alert-info\">\n",
    "  <p>1. Resumen del Proyecto\n",
    "      \n",
    "      \n",
    "      \n",
    "El objetivo de este proyecto fue desarrollar y evaluar modelos de regresión para predecir una variable continua a partir de un conjunto de datos. Se realizaron varias etapas, incluyendo la limpieza de datos, la selección y entrenamiento de modelos, y la evaluación de su rendimiento.</p>\n",
    "</div>"
   ]
  },
  {
   "cell_type": "markdown",
   "metadata": {},
   "source": [
    "<div class=\"alert alert-block alert-info\">\n",
    "  <p>2. Pasos del Plan Realizados y Omitidos\n",
    "Pasos Realizados:\n",
    "\n",
    "Preprocesamiento de Datos:\n",
    "\n",
    "Identificación y manejo de valores faltantes en el conjunto de datos.\n",
    "Limpieza y preparación de datos para el entrenamiento.\n",
    "Selección y Entrenamiento de Modelos:\n",
    "\n",
    "Entrenamiento del modelo base de regresión lineal.\n",
    "Entrenamiento del modelo Ridge para comparación.\n",
    "Evaluación del Rendimiento:\n",
    "\n",
    "Evaluación del rendimiento de los modelos utilizando métricas como el Mean Squared Error (MSE) y el R-squared (R²).\n",
    "Comparación entre el modelo base y el modelo Ridge.\n",
    "Pasos Omitidos:\n",
    "\n",
    "Modelos Adicionales: No se incluyeron modelos adicionales más allá de la regresión lineal y Ridge debido a restricciones de tiempo y la similitud en los resultados observados.</p>\n",
    "</div>"
   ]
  },
  {
   "cell_type": "markdown",
   "metadata": {},
   "source": [
    "<div class=\"alert alert-block alert-info\">\n",
    "  <p>3. Dificultades Encontradas y Soluciones\n",
    "Dificultades:\n",
    "\n",
    "Valores Faltantes:\n",
    "\n",
    "Se identificaron valores NaN en la variable dependiente (y_train). Esto generó errores al entrenar y evaluar los modelos.\n",
    "Solución:\n",
    "\n",
    "Se optó por eliminar las filas con valores faltantes en y_train, ya que representaban una pequeña fracción del total de los datos (0.18%).\n",
    "Errores en Evaluación de Modelos:\n",
    "\n",
    "Durante la evaluación del modelo Ridge, se encontraron errores relacionados con valores NaN en los datos de entrada.\n",
    "Solución:\n",
    "\n",
    "Se revisaron y limpiaron los datos, asegurando que no hubiera valores NaN o infinitos antes de realizar la evaluación final.</p>\n",
    "</div>"
   ]
  },
  {
   "cell_type": "markdown",
   "metadata": {},
   "source": [
    "<div class=\"alert alert-block alert-info\">\n",
    "  <p>4. Pasos Clave para Resolver la Tarea\n",
    "Limpieza de Datos:\n",
    "\n",
    "Identificación y manejo de valores faltantes y errores en los datos para asegurar que el conjunto de datos sea adecuado para el modelado.\n",
    "Entrenamiento y Evaluación de Modelos:\n",
    "\n",
    "Entrenamiento de un modelo base y un modelo Ridge, seguido de una evaluación rigurosa utilizando métricas de rendimiento para comparar y seleccionar el modelo adecuado.</p>\n",
    "</div>"
   ]
  },
  {
   "cell_type": "markdown",
   "metadata": {},
   "source": [
    "<div class=\"alert alert-block alert-info\">\n",
    "  <p>5. Modelo Final y Nivel de Calidad\n",
    "Modelo Final:\n",
    "\n",
    "Modelo Ridge (después de limpieza)\n",
    "Rendimiento del Modelo:\n",
    "\n",
    "Mean Squared Error (MSE): 1617620.55895689\n",
    "R-squared (R²): 0.6890690370741825\n",
    "Nivel de Calidad:\n",
    "\n",
    "El rendimiento del modelo Ridge es comparable al del modelo base, con una ligera mejora en las métricas de evaluación. Ambos modelos muestran un nivel de ajuste razonable con un R² de aproximadamente 0.689, lo que indica que el modelo es capaz de explicar cerca del 69% de la variabilidad en los datos.</p>\n",
    "</div>"
   ]
  },
  {
   "cell_type": "markdown",
   "metadata": {},
   "source": [
    "## CONCLUSIÓN 1 "
   ]
  },
  {
   "cell_type": "markdown",
   "metadata": {},
   "source": [
    "<div class=\"alert alert-block alert-info\">\n",
    "  <p>El modelo final, Ridge, ha sido seleccionado por su capacidad para manejar la regularización, lo que puede ser beneficioso en escenarios más complejos. La calidad del modelo es adecuada y se ha logrado un buen ajuste con los datos disponibles.</p>\n",
    "</div>"
   ]
  },
  {
   "cell_type": "markdown",
   "metadata": {},
   "source": [
    "## CONCLUSIÓN DEL PROYECTO "
   ]
  },
  {
   "cell_type": "markdown",
   "metadata": {},
   "source": [
    "<div class=\"alert alert-block alert-info\">\n",
    "  <p>El proyecto ha consistido en el desarrollo y evaluación de modelos de regresión para predecir una variable continua utilizando un conjunto de datos complejo. A lo largo del proceso, se han llevado a cabo varias etapas críticas, desde la limpieza y preparación de datos hasta la selección y comparación de modelos de regresión.\n",
    "\n",
    "**1. Limpieza de Datos:\n",
    "\n",
    "Se identificaron y resolvieron problemas de datos faltantes en la variable dependiente (y_train), lo que permitió una preparación adecuada del conjunto de datos para el modelado. La decisión de eliminar las filas con valores NaN fue fundamentada, dado que representaban una fracción menor del total de los datos (0.18%). Este enfoque garantizó que los modelos entrenados no se viesen afectados negativamente por datos incompletos.\n",
    "**2. Selección y Entrenamiento de Modelos:\n",
    "\n",
    "Se entrenaron dos modelos de regresión: un modelo base de regresión lineal y un modelo Ridge. La regresión Ridge se eligió por su capacidad para manejar la regularización, que es beneficiosa cuando se enfrentan problemas de sobreajuste en modelos complejos.\n",
    "**3. Evaluación del Rendimiento:\n",
    "\n",
    "Ambos modelos se evaluaron utilizando el Mean Squared Error (MSE) y el R-squared (R²). Los resultados mostraron que el modelo Ridge ofreció una ligera mejora en comparación con el modelo base, con un MSE de 1617620.55895689 y un R² de 0.6890690370741825. Estos valores indican un buen nivel de ajuste, con el modelo explicando aproximadamente el 69% de la variabilidad en los datos de prueba.\n",
    "**4. Dificultades y Resolución:\n",
    "\n",
    "Se enfrentaron problemas relacionados con valores NaN durante el entrenamiento y evaluación de los modelos. La solución consistió en revisar y limpiar los datos minuciosamente para asegurar que todos los datos utilizados en el entrenamiento y evaluación fueran válidos y completos.\n",
    "**5. Modelo Final y Recomendaciones:\n",
    "\n",
    "El modelo Ridge fue seleccionado como el modelo final debido a su capacidad para manejar la regularización, lo que es especialmente útil en contextos donde el riesgo de sobreajuste es alto. Aunque la diferencia en el rendimiento entre el modelo base y el modelo Ridge fue modesta, la regularización adicional del modelo Ridge proporciona una ventaja en términos de estabilidad y generalización.</p>\n",
    "</div>"
   ]
  },
  {
   "cell_type": "markdown",
   "metadata": {},
   "source": [
    "## CONCLUSIÓN GENERAL "
   ]
  },
  {
   "cell_type": "markdown",
   "metadata": {},
   "source": [
    "<div class=\"alert alert-block alert-info\">\n",
    "  <p>El proyecto ha logrado desarrollar un modelo de regresión robusto capaz de predecir la variable objetivo con un nivel de precisión razonable. La metodología seguida, que incluyó la limpieza exhaustiva de datos, la comparación de modelos y la evaluación rigurosa de su rendimiento, asegura que el modelo final es adecuado para los fines propuestos. El modelo Ridge, con su capacidad de regularización, ofrece un buen equilibrio entre precisión y estabilidad, lo que lo convierte en una opción recomendada para futuras aplicaciones.</p>\n",
    "</div>"
   ]
  },
  {
   "cell_type": "markdown",
   "metadata": {},
   "source": [
    "<div class=\"alert alert-block alert-success\">\n",
    "<b>Comentario del revisor</b>\n",
    "    \n",
    "Las conclusiones del proyecto están **bien elaboradas** y proporcionan un resumen claro de las etapas clave del análisis y del modelado. **Has logrado seleccionar un modelo adecuado** y justificaste su elección basándote en las características de los datos, lo cual es **un punto fuerte** en tu trabajo. Además, las métricas de evaluación muestran que el modelo Ridge es **capaz de manejar la variabilidad de los datos con una precisión razonable**.\n",
    "\n",
    "Para fortalecer aún más tus conclusiones, sería valioso que reflexionaras sobre **las posibles limitaciones del modelo Ridge**, como su sensibilidad a los outliers, y que propusieras maneras de mitigar estos desafíos en futuros proyectos. También podrías expandir sobre **cómo los resultados obtenidos podrían influir en las decisiones estratégicas de la empresa**, especialmente en la retención de clientes, lo que destacaría la aplicabilidad práctica de tu trabajo.<\n",
    "\n",
    "**Aprobado**. Has hecho un excelente trabajo, demostrando un sólido entendimiento del análisis de datos y del modelado predictivo. ¡Sigue adelante con este mismo entusiasmo y dedicación! 🚀💪\n",
    "</div>\n"
   ]
  }
 ],
 "metadata": {
  "ExecuteTimeLog": [
   {
    "duration": 2570,
    "start_time": "2024-08-29T00:26:50.434Z"
   },
   {
    "duration": 8,
    "start_time": "2024-08-30T17:51:42.875Z"
   },
   {
    "duration": 158,
    "start_time": "2024-08-30T23:33:24.949Z"
   },
   {
    "duration": 332,
    "start_time": "2024-08-30T23:34:18.326Z"
   },
   {
    "duration": 31,
    "start_time": "2024-08-30T23:34:19.586Z"
   },
   {
    "duration": 2494,
    "start_time": "2024-08-30T23:36:35.427Z"
   },
   {
    "duration": 3,
    "start_time": "2024-08-30T23:37:09.086Z"
   },
   {
    "duration": 22,
    "start_time": "2024-08-30T23:37:09.703Z"
   },
   {
    "duration": 271,
    "start_time": "2024-08-30T23:37:20.009Z"
   },
   {
    "duration": 63946,
    "start_time": "2024-08-30T23:42:08.718Z"
   },
   {
    "duration": 6,
    "start_time": "2024-08-30T23:43:12.666Z"
   },
   {
    "duration": 135,
    "start_time": "2024-08-30T23:44:01.573Z"
   },
   {
    "duration": 29,
    "start_time": "2024-08-30T23:44:49.726Z"
   },
   {
    "duration": 23,
    "start_time": "2024-08-30T23:44:50.551Z"
   },
   {
    "duration": 6,
    "start_time": "2024-08-30T23:44:51.263Z"
   },
   {
    "duration": 291,
    "start_time": "2024-08-30T23:44:52.075Z"
   },
   {
    "duration": 706,
    "start_time": "2024-08-30T23:44:53.128Z"
   },
   {
    "duration": 15,
    "start_time": "2024-08-30T23:44:54.269Z"
   },
   {
    "duration": 223,
    "start_time": "2024-08-30T23:44:56.765Z"
   },
   {
    "duration": 7,
    "start_time": "2024-08-30T23:46:57.467Z"
   },
   {
    "duration": 3,
    "start_time": "2024-08-30T23:47:11.882Z"
   },
   {
    "duration": 23,
    "start_time": "2024-08-30T23:47:12.264Z"
   },
   {
    "duration": 8,
    "start_time": "2024-08-30T23:47:13.967Z"
   },
   {
    "duration": 5,
    "start_time": "2024-08-30T23:47:16.089Z"
   },
   {
    "duration": 6,
    "start_time": "2024-08-30T23:48:19.157Z"
   },
   {
    "duration": 63,
    "start_time": "2024-08-30T23:49:04.676Z"
   },
   {
    "duration": 4,
    "start_time": "2024-08-30T23:51:35.098Z"
   },
   {
    "duration": 5,
    "start_time": "2024-08-30T23:53:31.027Z"
   },
   {
    "duration": 4,
    "start_time": "2024-08-30T23:53:53.732Z"
   },
   {
    "duration": 269,
    "start_time": "2024-08-30T23:54:01.151Z"
   },
   {
    "duration": 681,
    "start_time": "2024-08-30T23:54:02.316Z"
   },
   {
    "duration": 12,
    "start_time": "2024-08-30T23:54:03.586Z"
   },
   {
    "duration": 6,
    "start_time": "2024-08-30T23:54:04.812Z"
   },
   {
    "duration": 62,
    "start_time": "2024-08-30T23:54:06.240Z"
   },
   {
    "duration": 201,
    "start_time": "2024-08-30T23:54:36.758Z"
   },
   {
    "duration": 5,
    "start_time": "2024-08-30T23:56:24.211Z"
   },
   {
    "duration": 5,
    "start_time": "2024-08-30T23:58:24.181Z"
   },
   {
    "duration": 172,
    "start_time": "2024-08-30T23:58:28.873Z"
   },
   {
    "duration": 4,
    "start_time": "2024-08-30T23:58:52.111Z"
   },
   {
    "duration": 4,
    "start_time": "2024-08-30T23:59:50.712Z"
   },
   {
    "duration": 142,
    "start_time": "2024-08-31T00:03:07.056Z"
   },
   {
    "duration": 5,
    "start_time": "2024-08-31T00:03:54.426Z"
   },
   {
    "duration": 5,
    "start_time": "2024-08-31T00:04:31.013Z"
   },
   {
    "duration": 141,
    "start_time": "2024-08-31T00:05:07.211Z"
   },
   {
    "duration": 4,
    "start_time": "2024-08-31T00:06:18.937Z"
   },
   {
    "duration": 6,
    "start_time": "2024-08-31T00:06:32.688Z"
   },
   {
    "duration": 4,
    "start_time": "2024-08-31T00:06:42.913Z"
   },
   {
    "duration": 11,
    "start_time": "2024-09-01T19:29:24.708Z"
   },
   {
    "duration": 4,
    "start_time": "2024-09-01T19:29:55.845Z"
   }
  ],
  "kernelspec": {
   "display_name": "Python 3 (ipykernel)",
   "language": "python",
   "name": "python3"
  },
  "language_info": {
   "codemirror_mode": {
    "name": "ipython",
    "version": 3
   },
   "file_extension": ".py",
   "mimetype": "text/x-python",
   "name": "python",
   "nbconvert_exporter": "python",
   "pygments_lexer": "ipython3",
   "version": "3.9.19"
  },
  "toc": {
   "base_numbering": 1,
   "nav_menu": {},
   "number_sections": true,
   "sideBar": true,
   "skip_h1_title": true,
   "title_cell": "Table of Contents",
   "title_sidebar": "Contents",
   "toc_cell": false,
   "toc_position": {},
   "toc_section_display": true,
   "toc_window_display": false
  }
 },
 "nbformat": 4,
 "nbformat_minor": 2
}
